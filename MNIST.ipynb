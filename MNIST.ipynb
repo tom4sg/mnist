{
  "nbformat": 4,
  "nbformat_minor": 0,
  "metadata": {
    "colab": {
      "provenance": []
    },
    "kernelspec": {
      "name": "python3",
      "display_name": "Python 3"
    },
    "language_info": {
      "name": "python"
    }
  },
  "cells": [
    {
      "cell_type": "code",
      "execution_count": 16,
      "metadata": {
        "id": "WjYT1t_Ncw89"
      },
      "outputs": [],
      "source": [
        "import torch\n",
        "import torch.nn as nn\n",
        "import torchvision.datasets as datasets\n",
        "import torchvision.transforms as transforms\n",
        "from torch.utils.data import DataLoader"
      ]
    },
    {
      "cell_type": "code",
      "source": [
        "# Transform to convert images to PyTorch tensors\n",
        "transform = transforms.ToTensor()\n",
        "\n",
        "# Load the MNIST training dataset\n",
        "train_dataset = datasets.MNIST(root='/content/data',\n",
        "                               train=True,\n",
        "                               transform=transform,\n",
        "                               download=True)\n",
        "\n",
        "# Load the MNIST test dataset\n",
        "test_dataset = datasets.MNIST(root='/content/data',\n",
        "                              train=False,\n",
        "                              transform=transform,\n",
        "                              download=True)\n",
        "\n",
        "# Create data loaders for training and testing\n",
        "train_loader = DataLoader(dataset=train_dataset,\n",
        "                          batch_size=64,\n",
        "                          shuffle=True)\n",
        "\n",
        "test_loader = DataLoader(dataset=test_dataset,\n",
        "                         batch_size=64,\n",
        "                         shuffle=False)"
      ],
      "metadata": {
        "id": "LMgGJtF-dGUT"
      },
      "execution_count": 17,
      "outputs": []
    },
    {
      "cell_type": "code",
      "source": [
        "# Define a simple feedforward neural network\n",
        "class NeuralNet(nn.Module):\n",
        "    def __init__(self):\n",
        "        super(NeuralNet, self).__init__()\n",
        "        self.l1 = nn.Linear(784, 500)   # Input layer to hidden layer\n",
        "        self.relu = nn.ReLU()           # Activation function\n",
        "        self.l2 = nn.Linear(500, 10)    # Hidden layer to output layer (10 classes for digits 0-9)\n",
        "\n",
        "    def forward(self, x):\n",
        "        out = self.l1(x)\n",
        "        out = self.relu(out)\n",
        "        out = self.l2(out)\n",
        "        return out\n",
        "\n",
        "# Initialize the model\n",
        "model = NeuralNet()\n",
        "\n",
        "# Define the loss function and optimizer\n",
        "criterion = nn.CrossEntropyLoss()\n",
        "optimizer = torch.optim.Adam(model.parameters(), lr=0.001)"
      ],
      "metadata": {
        "id": "GEwn71ewfU5A"
      },
      "execution_count": 18,
      "outputs": []
    },
    {
      "cell_type": "code",
      "source": [
        "# Training the model\n",
        "n_total_steps = len(train_loader)\n",
        "num_epochs = 3\n",
        "\n",
        "for epoch in range(num_epochs):\n",
        "    for i, (images, labels) in enumerate(train_loader):\n",
        "        # Flatten the images from (64, 1, 28, 28) to (64, 784)\n",
        "        images = images.reshape(-1, 28*28)\n",
        "\n",
        "        # Forward pass\n",
        "        outputs = model(images)\n",
        "        loss = criterion(outputs, labels)\n",
        "\n",
        "        # Backward pass and optimization\n",
        "        optimizer.zero_grad()\n",
        "        loss.backward()\n",
        "        optimizer.step()\n",
        "\n",
        "        # Print loss every 100 steps\n",
        "        if (i+1) % 100 == 0:\n",
        "            print(f'Epoch [{epoch+1}/{num_epochs}], Step [{i+1}/{n_total_steps}], Loss: {loss.item():.4f}')"
      ],
      "metadata": {
        "colab": {
          "base_uri": "https://localhost:8080/"
        },
        "id": "I6NaTEmhlwI3",
        "outputId": "65475f4a-650d-4624-c1bb-45301245f2bf"
      },
      "execution_count": 19,
      "outputs": [
        {
          "output_type": "stream",
          "name": "stdout",
          "text": [
            "Epoch [1/3], Step [100/938], Loss: 0.2941\n",
            "Epoch [1/3], Step [200/938], Loss: 0.2816\n",
            "Epoch [1/3], Step [300/938], Loss: 0.4622\n",
            "Epoch [1/3], Step [400/938], Loss: 0.1265\n",
            "Epoch [1/3], Step [500/938], Loss: 0.2440\n",
            "Epoch [1/3], Step [600/938], Loss: 0.2272\n",
            "Epoch [1/3], Step [700/938], Loss: 0.1318\n",
            "Epoch [1/3], Step [800/938], Loss: 0.2736\n",
            "Epoch [1/3], Step [900/938], Loss: 0.1291\n",
            "Epoch [2/3], Step [100/938], Loss: 0.1216\n",
            "Epoch [2/3], Step [200/938], Loss: 0.0707\n",
            "Epoch [2/3], Step [300/938], Loss: 0.0773\n",
            "Epoch [2/3], Step [400/938], Loss: 0.0832\n",
            "Epoch [2/3], Step [500/938], Loss: 0.1313\n",
            "Epoch [2/3], Step [600/938], Loss: 0.0754\n",
            "Epoch [2/3], Step [700/938], Loss: 0.1244\n",
            "Epoch [2/3], Step [800/938], Loss: 0.0367\n",
            "Epoch [2/3], Step [900/938], Loss: 0.0898\n",
            "Epoch [3/3], Step [100/938], Loss: 0.0373\n",
            "Epoch [3/3], Step [200/938], Loss: 0.1039\n",
            "Epoch [3/3], Step [300/938], Loss: 0.0781\n",
            "Epoch [3/3], Step [400/938], Loss: 0.0509\n",
            "Epoch [3/3], Step [500/938], Loss: 0.0466\n",
            "Epoch [3/3], Step [600/938], Loss: 0.0520\n",
            "Epoch [3/3], Step [700/938], Loss: 0.0709\n",
            "Epoch [3/3], Step [800/938], Loss: 0.1174\n",
            "Epoch [3/3], Step [900/938], Loss: 0.1241\n"
          ]
        }
      ]
    },
    {
      "cell_type": "code",
      "source": [
        "# Evaluate the model on the test dataset\n",
        "with torch.no_grad():\n",
        "    n_correct = 0\n",
        "    n_samples = 0\n",
        "    for images, labels in test_loader:\n",
        "        # Flatten test images\n",
        "        images = images.reshape(-1, 28*28)\n",
        "        outputs = model(images)\n",
        "\n",
        "        # Get predictions from the maximum value\n",
        "        _, predicted = torch.max(outputs.data, 1)\n",
        "\n",
        "        # Count correct predictions\n",
        "        n_samples += labels.size(0)\n",
        "        n_correct += (predicted == labels).sum().item()\n",
        "\n",
        "    # Compute and print accuracy\n",
        "    acc = 100.0 * n_correct / n_samples\n",
        "    print(f'Accuracy of the network on the 10,000 test images: {acc:.2f}%')"
      ],
      "metadata": {
        "colab": {
          "base_uri": "https://localhost:8080/"
        },
        "id": "JrNL-WfIl2of",
        "outputId": "ee736c0d-930d-447d-f051-7cf98da956e9"
      },
      "execution_count": 20,
      "outputs": [
        {
          "output_type": "stream",
          "name": "stdout",
          "text": [
            "Accuracy of the network on the 10,000 test images: 97.75%\n"
          ]
        }
      ]
    }
  ]
}